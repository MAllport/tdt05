{
 "cells": [
  {
   "cell_type": "markdown",
   "metadata": {},
   "source": [
    "# Challenge 1\n",
    "## Team name: Team Hilbert Space\n",
    "### Michael Moen Allport & Jonas Sandberg\n",
    "### Student IDs: 768687 + 747903"
   ]
  },
  {
   "cell_type": "markdown",
   "metadata": {},
   "source": [
    "# Exploratory Data Analysis"
   ]
  },
  {
   "cell_type": "code",
   "execution_count": 1,
   "metadata": {},
   "outputs": [],
   "source": [
    "import pandas as pd\n",
    "import sklearn as sk\n",
    "import numpy as np"
   ]
  },
  {
   "cell_type": "code",
   "execution_count": 2,
   "metadata": {},
   "outputs": [
    {
     "data": {
      "text/html": [
       "<div>\n",
       "<style scoped>\n",
       "    .dataframe tbody tr th:only-of-type {\n",
       "        vertical-align: middle;\n",
       "    }\n",
       "\n",
       "    .dataframe tbody tr th {\n",
       "        vertical-align: top;\n",
       "    }\n",
       "\n",
       "    .dataframe thead th {\n",
       "        text-align: right;\n",
       "    }\n",
       "</style>\n",
       "<table border=\"1\" class=\"dataframe\">\n",
       "  <thead>\n",
       "    <tr style=\"text-align: right;\">\n",
       "      <th></th>\n",
       "      <th>id</th>\n",
       "      <th>target</th>\n",
       "      <th>f0</th>\n",
       "      <th>f1</th>\n",
       "      <th>f2</th>\n",
       "      <th>f3</th>\n",
       "      <th>f4</th>\n",
       "      <th>f5</th>\n",
       "      <th>f6</th>\n",
       "      <th>f7</th>\n",
       "      <th>...</th>\n",
       "      <th>f15</th>\n",
       "      <th>f16</th>\n",
       "      <th>f17</th>\n",
       "      <th>f18</th>\n",
       "      <th>f19</th>\n",
       "      <th>f20</th>\n",
       "      <th>f21</th>\n",
       "      <th>f22</th>\n",
       "      <th>f23</th>\n",
       "      <th>f24</th>\n",
       "    </tr>\n",
       "  </thead>\n",
       "  <tbody>\n",
       "    <tr>\n",
       "      <th>0</th>\n",
       "      <td>0</td>\n",
       "      <td>0</td>\n",
       "      <td>254e988c9</td>\n",
       "      <td>0.0</td>\n",
       "      <td>6.8928</td>\n",
       "      <td>a</td>\n",
       "      <td>0.0</td>\n",
       "      <td>0.2</td>\n",
       "      <td>0.3</td>\n",
       "      <td>3829ad8a4</td>\n",
       "      <td>...</td>\n",
       "      <td>79df04ed6</td>\n",
       "      <td>A</td>\n",
       "      <td>2.0</td>\n",
       "      <td>51.0</td>\n",
       "      <td>3.0</td>\n",
       "      <td>1.0</td>\n",
       "      <td>D</td>\n",
       "      <td>0.0</td>\n",
       "      <td>6d3db6c57</td>\n",
       "      <td>a7059911d</td>\n",
       "    </tr>\n",
       "    <tr>\n",
       "      <th>1</th>\n",
       "      <td>1</td>\n",
       "      <td>0</td>\n",
       "      <td>e3282379d</td>\n",
       "      <td>0.0</td>\n",
       "      <td>6.8098</td>\n",
       "      <td>n</td>\n",
       "      <td>NaN</td>\n",
       "      <td>0.0</td>\n",
       "      <td>0.1</td>\n",
       "      <td>fd943bc67</td>\n",
       "      <td>...</td>\n",
       "      <td>2815e62ea</td>\n",
       "      <td>U</td>\n",
       "      <td>0.0</td>\n",
       "      <td>10.0</td>\n",
       "      <td>1.0</td>\n",
       "      <td>3.0</td>\n",
       "      <td>E</td>\n",
       "      <td>0.0</td>\n",
       "      <td>abce980f5</td>\n",
       "      <td>e60e65034</td>\n",
       "    </tr>\n",
       "    <tr>\n",
       "      <th>2</th>\n",
       "      <td>2</td>\n",
       "      <td>0</td>\n",
       "      <td>c362abead</td>\n",
       "      <td>1.0</td>\n",
       "      <td>6.7761</td>\n",
       "      <td>k</td>\n",
       "      <td>0.0</td>\n",
       "      <td>0.1</td>\n",
       "      <td>0.0</td>\n",
       "      <td>b770c0db2</td>\n",
       "      <td>...</td>\n",
       "      <td>8496c8e33</td>\n",
       "      <td>Q</td>\n",
       "      <td>1.0</td>\n",
       "      <td>16.0</td>\n",
       "      <td>3.0</td>\n",
       "      <td>0.0</td>\n",
       "      <td>NaN</td>\n",
       "      <td>0.0</td>\n",
       "      <td>63dde2492</td>\n",
       "      <td>d3d8f55e0</td>\n",
       "    </tr>\n",
       "    <tr>\n",
       "      <th>3</th>\n",
       "      <td>3</td>\n",
       "      <td>0</td>\n",
       "      <td>84ab3eece</td>\n",
       "      <td>0.0</td>\n",
       "      <td>6.9302</td>\n",
       "      <td>i</td>\n",
       "      <td>3.0</td>\n",
       "      <td>0.2</td>\n",
       "      <td>0.3</td>\n",
       "      <td>5968f0acd</td>\n",
       "      <td>...</td>\n",
       "      <td>b31517d23</td>\n",
       "      <td>NaN</td>\n",
       "      <td>1.0</td>\n",
       "      <td>63.0</td>\n",
       "      <td>3.0</td>\n",
       "      <td>0.0</td>\n",
       "      <td>E</td>\n",
       "      <td>0.0</td>\n",
       "      <td>cb0d7da76</td>\n",
       "      <td>3600c6e91</td>\n",
       "    </tr>\n",
       "    <tr>\n",
       "      <th>4</th>\n",
       "      <td>4</td>\n",
       "      <td>0</td>\n",
       "      <td>a16717598</td>\n",
       "      <td>0.0</td>\n",
       "      <td>7.0238</td>\n",
       "      <td>e</td>\n",
       "      <td>4.0</td>\n",
       "      <td>0.1</td>\n",
       "      <td>0.4</td>\n",
       "      <td>221405824</td>\n",
       "      <td>...</td>\n",
       "      <td>6327fb08b</td>\n",
       "      <td>H</td>\n",
       "      <td>1.0</td>\n",
       "      <td>26.0</td>\n",
       "      <td>NaN</td>\n",
       "      <td>3.0</td>\n",
       "      <td>A</td>\n",
       "      <td>0.0</td>\n",
       "      <td>8ce034bb6</td>\n",
       "      <td>93360bbc9</td>\n",
       "    </tr>\n",
       "  </tbody>\n",
       "</table>\n",
       "<p>5 rows × 27 columns</p>\n",
       "</div>"
      ],
      "text/plain": [
       "   id  target         f0   f1      f2 f3   f4   f5   f6         f7  ...  \\\n",
       "0   0       0  254e988c9  0.0  6.8928  a  0.0  0.2  0.3  3829ad8a4  ...   \n",
       "1   1       0  e3282379d  0.0  6.8098  n  NaN  0.0  0.1  fd943bc67  ...   \n",
       "2   2       0  c362abead  1.0  6.7761  k  0.0  0.1  0.0  b770c0db2  ...   \n",
       "3   3       0  84ab3eece  0.0  6.9302  i  3.0  0.2  0.3  5968f0acd  ...   \n",
       "4   4       0  a16717598  0.0  7.0238  e  4.0  0.1  0.4  221405824  ...   \n",
       "\n",
       "         f15  f16  f17   f18  f19  f20  f21  f22        f23        f24  \n",
       "0  79df04ed6    A  2.0  51.0  3.0  1.0    D  0.0  6d3db6c57  a7059911d  \n",
       "1  2815e62ea    U  0.0  10.0  1.0  3.0    E  0.0  abce980f5  e60e65034  \n",
       "2  8496c8e33    Q  1.0  16.0  3.0  0.0  NaN  0.0  63dde2492  d3d8f55e0  \n",
       "3  b31517d23  NaN  1.0  63.0  3.0  0.0    E  0.0  cb0d7da76  3600c6e91  \n",
       "4  6327fb08b    H  1.0  26.0  NaN  3.0    A  0.0  8ce034bb6  93360bbc9  \n",
       "\n",
       "[5 rows x 27 columns]"
      ]
     },
     "execution_count": 2,
     "metadata": {},
     "output_type": "execute_result"
    }
   ],
   "source": [
    "with open('datasets/challenge1_train.csv') as train_csv:\n",
    "        df = pd.read_csv(train_csv, skipinitialspace=True)\n",
    "labels = df['target']\n",
    "features = df.drop(columns=['target','id'])\n",
    "df.head()"
   ]
  },
  {
   "cell_type": "markdown",
   "metadata": {},
   "source": [
    "We see that we have a variety of data types. Some columns are hex values, others are categorical, float or boolean values.\n",
    "Lets check out the amount of missing values to see if there any outliers:"
   ]
  },
  {
   "cell_type": "code",
   "execution_count": 3,
   "metadata": {},
   "outputs": [
    {
     "data": {
      "text/plain": [
       "<BarContainer object of 25 artists>"
      ]
     },
     "execution_count": 3,
     "metadata": {},
     "output_type": "execute_result"
    },
    {
     "data": {
      "image/png": "[encoded data removed]",
      "text/plain": [
       "<Figure size 1152x576 with 1 Axes>"
      ]
     },
     "metadata": {
      "needs_background": "light"
     },
     "output_type": "display_data"
    }
   ],
   "source": [
    "import matplotlib.pyplot as plt\n",
    "null_counts = features.isna().sum()/len(df)\n",
    "plt.figure(figsize=(16,8))\n",
    "plt.xticks(np.arange(len(null_counts)),null_counts.index)\n",
    "plt.ylabel('fraction of rows with missing data')\n",
    "plt.bar(np.arange(len(null_counts)),null_counts)"
   ]
  },
  {
   "cell_type": "markdown",
   "metadata": {},
   "source": [
    "While we do have a fair amount of missing values, 3% is manageable and there are no outliers between columns."
   ]
  },
  {
   "cell_type": "code",
   "execution_count": 4,
   "metadata": {},
   "outputs": [
    {
     "data": {
      "text/html": [
       "<div>\n",
       "<style scoped>\n",
       "    .dataframe tbody tr th:only-of-type {\n",
       "        vertical-align: middle;\n",
       "    }\n",
       "\n",
       "    .dataframe tbody tr th {\n",
       "        vertical-align: top;\n",
       "    }\n",
       "\n",
       "    .dataframe thead th {\n",
       "        text-align: right;\n",
       "    }\n",
       "</style>\n",
       "<table border=\"1\" class=\"dataframe\">\n",
       "  <thead>\n",
       "    <tr style=\"text-align: right;\">\n",
       "      <th></th>\n",
       "      <th>f1</th>\n",
       "      <th>f2</th>\n",
       "      <th>f4</th>\n",
       "      <th>f5</th>\n",
       "      <th>f6</th>\n",
       "      <th>f8</th>\n",
       "      <th>f10</th>\n",
       "      <th>f11</th>\n",
       "      <th>f12</th>\n",
       "      <th>f13</th>\n",
       "      <th>f17</th>\n",
       "      <th>f18</th>\n",
       "      <th>f19</th>\n",
       "      <th>f20</th>\n",
       "      <th>f22</th>\n",
       "    </tr>\n",
       "  </thead>\n",
       "  <tbody>\n",
       "    <tr>\n",
       "      <th>count</th>\n",
       "      <td>48492.000000</td>\n",
       "      <td>48594.000000</td>\n",
       "      <td>48424.000000</td>\n",
       "      <td>48473.000000</td>\n",
       "      <td>48552.000000</td>\n",
       "      <td>48463.000000</td>\n",
       "      <td>48500.00000</td>\n",
       "      <td>48553.000000</td>\n",
       "      <td>48491.00000</td>\n",
       "      <td>48471.000000</td>\n",
       "      <td>48509.000000</td>\n",
       "      <td>48501.000000</td>\n",
       "      <td>48478.000000</td>\n",
       "      <td>48475.000000</td>\n",
       "      <td>48530.000000</td>\n",
       "    </tr>\n",
       "    <tr>\n",
       "      <th>mean</th>\n",
       "      <td>0.093356</td>\n",
       "      <td>6.988378</td>\n",
       "      <td>3.094148</td>\n",
       "      <td>0.146263</td>\n",
       "      <td>0.310677</td>\n",
       "      <td>6.350866</td>\n",
       "      <td>0.53732</td>\n",
       "      <td>0.276626</td>\n",
       "      <td>4.11532</td>\n",
       "      <td>0.037251</td>\n",
       "      <td>0.648003</td>\n",
       "      <td>62.147378</td>\n",
       "      <td>1.955196</td>\n",
       "      <td>1.889964</td>\n",
       "      <td>0.183721</td>\n",
       "    </tr>\n",
       "    <tr>\n",
       "      <th>std</th>\n",
       "      <td>0.290933</td>\n",
       "      <td>0.152945</td>\n",
       "      <td>1.845653</td>\n",
       "      <td>0.065318</td>\n",
       "      <td>0.185038</td>\n",
       "      <td>3.455614</td>\n",
       "      <td>0.49861</td>\n",
       "      <td>0.447334</td>\n",
       "      <td>2.03611</td>\n",
       "      <td>0.048348</td>\n",
       "      <td>0.823160</td>\n",
       "      <td>33.086578</td>\n",
       "      <td>0.853246</td>\n",
       "      <td>1.529719</td>\n",
       "      <td>0.387261</td>\n",
       "    </tr>\n",
       "    <tr>\n",
       "      <th>min</th>\n",
       "      <td>0.000000</td>\n",
       "      <td>6.521800</td>\n",
       "      <td>0.000000</td>\n",
       "      <td>0.000000</td>\n",
       "      <td>0.000000</td>\n",
       "      <td>1.000000</td>\n",
       "      <td>0.00000</td>\n",
       "      <td>0.000000</td>\n",
       "      <td>1.00000</td>\n",
       "      <td>0.000000</td>\n",
       "      <td>0.000000</td>\n",
       "      <td>1.000000</td>\n",
       "      <td>1.000000</td>\n",
       "      <td>0.000000</td>\n",
       "      <td>0.000000</td>\n",
       "    </tr>\n",
       "    <tr>\n",
       "      <th>25%</th>\n",
       "      <td>0.000000</td>\n",
       "      <td>6.870225</td>\n",
       "      <td>1.000000</td>\n",
       "      <td>0.100000</td>\n",
       "      <td>0.200000</td>\n",
       "      <td>3.000000</td>\n",
       "      <td>0.00000</td>\n",
       "      <td>0.000000</td>\n",
       "      <td>2.00000</td>\n",
       "      <td>0.000000</td>\n",
       "      <td>0.000000</td>\n",
       "      <td>32.000000</td>\n",
       "      <td>1.000000</td>\n",
       "      <td>0.000000</td>\n",
       "      <td>0.000000</td>\n",
       "    </tr>\n",
       "    <tr>\n",
       "      <th>50%</th>\n",
       "      <td>0.000000</td>\n",
       "      <td>6.987500</td>\n",
       "      <td>4.000000</td>\n",
       "      <td>0.200000</td>\n",
       "      <td>0.400000</td>\n",
       "      <td>6.000000</td>\n",
       "      <td>1.00000</td>\n",
       "      <td>0.000000</td>\n",
       "      <td>5.00000</td>\n",
       "      <td>0.000000</td>\n",
       "      <td>0.000000</td>\n",
       "      <td>65.000000</td>\n",
       "      <td>2.000000</td>\n",
       "      <td>2.000000</td>\n",
       "      <td>0.000000</td>\n",
       "    </tr>\n",
       "    <tr>\n",
       "      <th>75%</th>\n",
       "      <td>0.000000</td>\n",
       "      <td>7.102300</td>\n",
       "      <td>5.000000</td>\n",
       "      <td>0.200000</td>\n",
       "      <td>0.500000</td>\n",
       "      <td>8.000000</td>\n",
       "      <td>1.00000</td>\n",
       "      <td>1.000000</td>\n",
       "      <td>6.00000</td>\n",
       "      <td>0.100000</td>\n",
       "      <td>1.000000</td>\n",
       "      <td>94.000000</td>\n",
       "      <td>3.000000</td>\n",
       "      <td>3.000000</td>\n",
       "      <td>0.000000</td>\n",
       "    </tr>\n",
       "    <tr>\n",
       "      <th>max</th>\n",
       "      <td>1.000000</td>\n",
       "      <td>7.479400</td>\n",
       "      <td>5.000000</td>\n",
       "      <td>0.200000</td>\n",
       "      <td>0.500000</td>\n",
       "      <td>12.000000</td>\n",
       "      <td>1.00000</td>\n",
       "      <td>1.000000</td>\n",
       "      <td>7.00000</td>\n",
       "      <td>0.100000</td>\n",
       "      <td>3.000000</td>\n",
       "      <td>104.000000</td>\n",
       "      <td>3.000000</td>\n",
       "      <td>4.000000</td>\n",
       "      <td>1.000000</td>\n",
       "    </tr>\n",
       "  </tbody>\n",
       "</table>\n",
       "</div>"
      ],
      "text/plain": [
       "                 f1            f2            f4            f5            f6  \\\n",
       "count  48492.000000  48594.000000  48424.000000  48473.000000  48552.000000   \n",
       "mean       0.093356      6.988378      3.094148      0.146263      0.310677   \n",
       "std        0.290933      0.152945      1.845653      0.065318      0.185038   \n",
       "min        0.000000      6.521800      0.000000      0.000000      0.000000   \n",
       "25%        0.000000      6.870225      1.000000      0.100000      0.200000   \n",
       "50%        0.000000      6.987500      4.000000      0.200000      0.400000   \n",
       "75%        0.000000      7.102300      5.000000      0.200000      0.500000   \n",
       "max        1.000000      7.479400      5.000000      0.200000      0.500000   \n",
       "\n",
       "                 f8          f10           f11          f12           f13  \\\n",
       "count  48463.000000  48500.00000  48553.000000  48491.00000  48471.000000   \n",
       "mean       6.350866      0.53732      0.276626      4.11532      0.037251   \n",
       "std        3.455614      0.49861      0.447334      2.03611      0.048348   \n",
       "min        1.000000      0.00000      0.000000      1.00000      0.000000   \n",
       "25%        3.000000      0.00000      0.000000      2.00000      0.000000   \n",
       "50%        6.000000      1.00000      0.000000      5.00000      0.000000   \n",
       "75%        8.000000      1.00000      1.000000      6.00000      0.100000   \n",
       "max       12.000000      1.00000      1.000000      7.00000      0.100000   \n",
       "\n",
       "                f17           f18           f19           f20           f22  \n",
       "count  48509.000000  48501.000000  48478.000000  48475.000000  48530.000000  \n",
       "mean       0.648003     62.147378      1.955196      1.889964      0.183721  \n",
       "std        0.823160     33.086578      0.853246      1.529719      0.387261  \n",
       "min        0.000000      1.000000      1.000000      0.000000      0.000000  \n",
       "25%        0.000000     32.000000      1.000000      0.000000      0.000000  \n",
       "50%        0.000000     65.000000      2.000000      2.000000      0.000000  \n",
       "75%        1.000000     94.000000      3.000000      3.000000      0.000000  \n",
       "max        3.000000    104.000000      3.000000      4.000000      1.000000  "
      ]
     },
     "execution_count": 4,
     "metadata": {},
     "output_type": "execute_result"
    }
   ],
   "source": [
    "features.describe()"
   ]
  },
  {
   "cell_type": "markdown",
   "metadata": {},
   "source": [
    "While pandas describe() is decent for gettting a brief overview of the dataset, it can sometimes be misleading. A standard deviation of 3.4 in column f8 might be worrying until one realizes that the column has 12 distinct values and is probably best represented ordinally.\n",
    "\n",
    "A more powerful tool is \"Pandas profiling\", and is far more useful for data exploration."
   ]
  },
  {
   "cell_type": "code",
   "execution_count": 5,
   "metadata": {},
   "outputs": [],
   "source": [
    "import pandas_profiling\n",
    "from pandas_profiling import ProfileReport\n",
    "\n",
    "profile = ProfileReport(df.drop(columns=['id']))\n",
    "profile"
   ]
  },
  {
   "cell_type": "markdown",
   "metadata": {},
   "source": [
    "There's a lot going on in this report, so let's break the different aspects into parts."
   ]
  },
  {
   "cell_type": "markdown",
   "metadata": {},
   "source": [
    "# Data types\n",
    "\n",
    "We essentially have five different data types:"
   ]
  },
  {
   "cell_type": "code",
   "execution_count": 6,
   "metadata": {},
   "outputs": [],
   "source": [
    "numeric_features     = ['f2', 'f18']\n",
    "hexadecimal_features = ['f0', 'f7', 'f15', 'f23', 'f24']\n",
    "boolean_features     = ['f1', 'f10', 'f11', 'f13', 'f22']\n",
    "ordinal_features     = ['f4', 'f5', 'f6', 'f8', 'f12', 'f17', 'f19', 'f20']\n",
    "categorical_features = ['f3', 'f9', 'f14', 'f16', 'f21']"
   ]
  },
  {
   "cell_type": "markdown",
   "metadata": {},
   "source": [
    "We have 5 columns with hexadecimal numbers, so we need to convert them to a numeric type. It could also be argued that certain columns with hexadecimal numbers should be represented as categorical features if the number of distinct rows is low enough, for example column f23 and f24.\n",
    "\n",
    "Note that during model selection, we experimented with different ways to encode these data types, comparing the effect on our performance metrics. Essentially we treat boolean and hexadecimal features as numeric values, normalizing them by mean and standard deviation. For ordinal features, we tried one-hot encoding them, encoding them ordinally (from 0 to n_categories -1), and treating them numerically."
   ]
  },
  {
   "cell_type": "code",
   "execution_count": 7,
   "metadata": {},
   "outputs": [
    {
     "data": {
      "text/plain": [
       "Fl    900\n",
       "DN    750\n",
       "Sz    730\n",
       "PS    474\n",
       "vq    473\n",
       "     ... \n",
       "MX     11\n",
       "eA     11\n",
       "Zv     10\n",
       "gV      8\n",
       "vQ      4\n",
       "Name: f9, Length: 190, dtype: int64"
      ]
     },
     "execution_count": 7,
     "metadata": {},
     "output_type": "execute_result"
    }
   ],
   "source": [
    "df['f9'].value_counts()"
   ]
  },
  {
   "cell_type": "markdown",
   "metadata": {},
   "source": [
    "By inspecting the field 'f9', we see that it should be interpreted categorically, although it has a high cardinality. The high number of columns after one-hot encoding proved problematic for later processing, so we decided to drop the column and found that it did not adversely affect prediction performance."
   ]
  },
  {
   "cell_type": "code",
   "execution_count": 8,
   "metadata": {},
   "outputs": [],
   "source": [
    "features = features.drop(columns=['f9'])\n",
    "categorical_features.remove('f9')"
   ]
  },
  {
   "cell_type": "markdown",
   "metadata": {},
   "source": [
    "# Imbalanced classes\n",
    "\n",
    "We see that the targets are heavily favored towards \"0\". This needs to be dealt with, so our model doesn't heavily lean towards guessing \"0\". It also impacts the metrics we use to evaluate our model, given that a model that always guesses \"0\" will have an 80% accuracy."
   ]
  },
  {
   "cell_type": "code",
   "execution_count": 9,
   "metadata": {},
   "outputs": [
    {
     "data": {
      "text/plain": [
       "0    0.81652\n",
       "1    0.18348\n",
       "Name: target, dtype: float64"
      ]
     },
     "execution_count": 9,
     "metadata": {},
     "output_type": "execute_result"
    }
   ],
   "source": [
    "labels.value_counts(normalize=True)"
   ]
  },
  {
   "cell_type": "markdown",
   "metadata": {},
   "source": [
    "# Duplicates\n",
    "We inspect the training set and find that we have no duplicates, so we don't need to drop them."
   ]
  },
  {
   "cell_type": "code",
   "execution_count": 10,
   "metadata": {},
   "outputs": [
    {
     "data": {
      "text/plain": [
       "False"
      ]
     },
     "execution_count": 10,
     "metadata": {},
     "output_type": "execute_result"
    }
   ],
   "source": [
    "df.duplicated().any()"
   ]
  },
  {
   "cell_type": "markdown",
   "metadata": {},
   "source": [
    "# Correlations\n",
    "\n",
    "We see that the only correlation relationships are very weak. This is good, because correlated columns can have adverse effects on certain classification algorithms, like Logistic Regression and Random Forest. However, the data is not processed, so the report might be misleading - hex columns are treated as categorical values, for example. Let's pre-process and quantify how strong the relationships are - to do that we need to use different algorithms for the numeric features and categorical features. As far as we aware, there is no clear-cut way to quantify the relationship between categorical columns, so we focus on numerical column correlation."
   ]
  },
  {
   "cell_type": "code",
   "execution_count": 13,
   "metadata": {},
   "outputs": [
    {
     "data": {
      "image/png": "[encoded data removed]",
      "text/plain": [
       "<Figure size 1080x1080 with 2 Axes>"
      ]
     },
     "metadata": {
      "needs_background": "light"
     },
     "output_type": "display_data"
    }
   ],
   "source": [
    "import seaborn as sns\n",
    "from sklearn.preprocessing import MinMaxScaler, LabelEncoder\n",
    "from sklearn.impute import SimpleImputer\n",
    "from itertools import combinations\n",
    "from scipy.stats import chi2_contingency, pearsonr\n",
    "\n",
    "def conv_hex(x):\n",
    "    try:\n",
    "        return int(x, 16)\n",
    "    except ValueError:\n",
    "        return np.nan\n",
    "    except TypeError:\n",
    "        return np.nan\n",
    "    \n",
    "def analyze_corr(features, labels):\n",
    "    # Need to impute, pearson doesn't take nan values\n",
    "    median_impute = SimpleImputer(strategy='median')\n",
    "\n",
    "    for i in range(25):\n",
    "        feature = \"f\" + str(i)\n",
    "        if feature in hexadecimal_features:\n",
    "            features[feature] = features[feature].apply(lambda x: conv_hex(x))\n",
    "            features[feature] = median_impute.fit_transform(np.array(features[feature]).reshape(-1,1))\n",
    "\n",
    "        if feature in (numeric_features):\n",
    "            features[feature] = median_impute.fit_transform(np.array(features[feature]).reshape(-1,1))\n",
    "\n",
    "    \n",
    "    min_max_scaler = MinMaxScaler()\n",
    "    \n",
    "    df_num = features[features.columns & (numeric_features + hexadecimal_features)]\n",
    "    df_num = pd.DataFrame(min_max_scaler.fit_transform(df_num), columns=df_num.columns, index=df_num.index)\n",
    "    \n",
    "    correlations = df_num.corr(method=\"pearson\")\n",
    "\n",
    "    fig, ax = plt.subplots(figsize=(15,15))\n",
    "    heatmap = sns.heatmap(correlations, vmax=1.0, center=0, fmt='.2f',\n",
    "            square=True, linewidths=.5, annot=True, cbar_kws={\"shrink\": .70})\n",
    "\n",
    "analyze_corr(features.copy(), labels)"
   ]
  },
  {
   "cell_type": "markdown",
   "metadata": {},
   "source": [
    "# Preprocessing\n",
    "## Transform hexadecimal features to numeric"
   ]
  },
  {
   "cell_type": "code",
   "execution_count": 14,
   "metadata": {},
   "outputs": [
    {
     "data": {
      "text/html": [
       "<div>\n",
       "<style scoped>\n",
       "    .dataframe tbody tr th:only-of-type {\n",
       "        vertical-align: middle;\n",
       "    }\n",
       "\n",
       "    .dataframe tbody tr th {\n",
       "        vertical-align: top;\n",
       "    }\n",
       "\n",
       "    .dataframe thead th {\n",
       "        text-align: right;\n",
       "    }\n",
       "</style>\n",
       "<table border=\"1\" class=\"dataframe\">\n",
       "  <thead>\n",
       "    <tr style=\"text-align: right;\">\n",
       "      <th></th>\n",
       "      <th>f0</th>\n",
       "      <th>f1</th>\n",
       "      <th>f2</th>\n",
       "      <th>f3</th>\n",
       "      <th>f4</th>\n",
       "      <th>f5</th>\n",
       "      <th>f6</th>\n",
       "      <th>f7</th>\n",
       "      <th>f8</th>\n",
       "      <th>f10</th>\n",
       "      <th>...</th>\n",
       "      <th>f15</th>\n",
       "      <th>f16</th>\n",
       "      <th>f17</th>\n",
       "      <th>f18</th>\n",
       "      <th>f19</th>\n",
       "      <th>f20</th>\n",
       "      <th>f21</th>\n",
       "      <th>f22</th>\n",
       "      <th>f23</th>\n",
       "      <th>f24</th>\n",
       "    </tr>\n",
       "  </thead>\n",
       "  <tbody>\n",
       "    <tr>\n",
       "      <th>0</th>\n",
       "      <td>1.001453e+10</td>\n",
       "      <td>0.0</td>\n",
       "      <td>6.8928</td>\n",
       "      <td>a</td>\n",
       "      <td>0.0</td>\n",
       "      <td>0.2</td>\n",
       "      <td>0.3</td>\n",
       "      <td>1.507609e+10</td>\n",
       "      <td>4.0</td>\n",
       "      <td>0.0</td>\n",
       "      <td>...</td>\n",
       "      <td>3.271454e+10</td>\n",
       "      <td>A</td>\n",
       "      <td>2.0</td>\n",
       "      <td>51.0</td>\n",
       "      <td>3.0</td>\n",
       "      <td>1.0</td>\n",
       "      <td>D</td>\n",
       "      <td>0.0</td>\n",
       "      <td>2.932418e+10</td>\n",
       "      <td>4.483459e+10</td>\n",
       "    </tr>\n",
       "    <tr>\n",
       "      <th>1</th>\n",
       "      <td>6.097694e+10</td>\n",
       "      <td>0.0</td>\n",
       "      <td>6.8098</td>\n",
       "      <td>n</td>\n",
       "      <td>NaN</td>\n",
       "      <td>0.0</td>\n",
       "      <td>0.1</td>\n",
       "      <td>6.806960e+10</td>\n",
       "      <td>2.0</td>\n",
       "      <td>1.0</td>\n",
       "      <td>...</td>\n",
       "      <td>1.076038e+10</td>\n",
       "      <td>U</td>\n",
       "      <td>0.0</td>\n",
       "      <td>10.0</td>\n",
       "      <td>1.0</td>\n",
       "      <td>3.0</td>\n",
       "      <td>E</td>\n",
       "      <td>0.0</td>\n",
       "      <td>4.611909e+10</td>\n",
       "      <td>6.175525e+10</td>\n",
       "    </tr>\n",
       "    <tr>\n",
       "      <th>2</th>\n",
       "      <td>5.244838e+10</td>\n",
       "      <td>1.0</td>\n",
       "      <td>6.7761</td>\n",
       "      <td>k</td>\n",
       "      <td>0.0</td>\n",
       "      <td>0.1</td>\n",
       "      <td>0.0</td>\n",
       "      <td>4.924192e+10</td>\n",
       "      <td>3.0</td>\n",
       "      <td>1.0</td>\n",
       "      <td>...</td>\n",
       "      <td>3.559159e+10</td>\n",
       "      <td>Q</td>\n",
       "      <td>1.0</td>\n",
       "      <td>16.0</td>\n",
       "      <td>3.0</td>\n",
       "      <td>0.0</td>\n",
       "      <td>NaN</td>\n",
       "      <td>0.0</td>\n",
       "      <td>2.680777e+10</td>\n",
       "      <td>5.686738e+10</td>\n",
       "    </tr>\n",
       "    <tr>\n",
       "      <th>3</th>\n",
       "      <td>3.561304e+10</td>\n",
       "      <td>0.0</td>\n",
       "      <td>6.9302</td>\n",
       "      <td>i</td>\n",
       "      <td>3.0</td>\n",
       "      <td>0.2</td>\n",
       "      <td>0.3</td>\n",
       "      <td>2.400079e+10</td>\n",
       "      <td>6.0</td>\n",
       "      <td>0.0</td>\n",
       "      <td>...</td>\n",
       "      <td>4.807206e+10</td>\n",
       "      <td>NaN</td>\n",
       "      <td>1.0</td>\n",
       "      <td>63.0</td>\n",
       "      <td>3.0</td>\n",
       "      <td>0.0</td>\n",
       "      <td>E</td>\n",
       "      <td>0.0</td>\n",
       "      <td>5.450654e+10</td>\n",
       "      <td>1.449633e+10</td>\n",
       "    </tr>\n",
       "    <tr>\n",
       "      <th>4</th>\n",
       "      <td>4.332621e+10</td>\n",
       "      <td>0.0</td>\n",
       "      <td>7.0238</td>\n",
       "      <td>e</td>\n",
       "      <td>4.0</td>\n",
       "      <td>0.1</td>\n",
       "      <td>0.4</td>\n",
       "      <td>9.147800e+09</td>\n",
       "      <td>5.0</td>\n",
       "      <td>1.0</td>\n",
       "      <td>...</td>\n",
       "      <td>2.661703e+10</td>\n",
       "      <td>H</td>\n",
       "      <td>1.0</td>\n",
       "      <td>26.0</td>\n",
       "      <td>NaN</td>\n",
       "      <td>3.0</td>\n",
       "      <td>A</td>\n",
       "      <td>0.0</td>\n",
       "      <td>3.781606e+10</td>\n",
       "      <td>3.951668e+10</td>\n",
       "    </tr>\n",
       "  </tbody>\n",
       "</table>\n",
       "<p>5 rows × 24 columns</p>\n",
       "</div>"
      ],
      "text/plain": [
       "             f0   f1      f2 f3   f4   f5   f6            f7   f8  f10  ...  \\\n",
       "0  1.001453e+10  0.0  6.8928  a  0.0  0.2  0.3  1.507609e+10  4.0  0.0  ...   \n",
       "1  6.097694e+10  0.0  6.8098  n  NaN  0.0  0.1  6.806960e+10  2.0  1.0  ...   \n",
       "2  5.244838e+10  1.0  6.7761  k  0.0  0.1  0.0  4.924192e+10  3.0  1.0  ...   \n",
       "3  3.561304e+10  0.0  6.9302  i  3.0  0.2  0.3  2.400079e+10  6.0  0.0  ...   \n",
       "4  4.332621e+10  0.0  7.0238  e  4.0  0.1  0.4  9.147800e+09  5.0  1.0  ...   \n",
       "\n",
       "            f15  f16  f17   f18  f19  f20  f21  f22           f23  \\\n",
       "0  3.271454e+10    A  2.0  51.0  3.0  1.0    D  0.0  2.932418e+10   \n",
       "1  1.076038e+10    U  0.0  10.0  1.0  3.0    E  0.0  4.611909e+10   \n",
       "2  3.559159e+10    Q  1.0  16.0  3.0  0.0  NaN  0.0  2.680777e+10   \n",
       "3  4.807206e+10  NaN  1.0  63.0  3.0  0.0    E  0.0  5.450654e+10   \n",
       "4  2.661703e+10    H  1.0  26.0  NaN  3.0    A  0.0  3.781606e+10   \n",
       "\n",
       "            f24  \n",
       "0  4.483459e+10  \n",
       "1  6.175525e+10  \n",
       "2  5.686738e+10  \n",
       "3  1.449633e+10  \n",
       "4  3.951668e+10  \n",
       "\n",
       "[5 rows x 24 columns]"
      ]
     },
     "execution_count": 14,
     "metadata": {},
     "output_type": "execute_result"
    }
   ],
   "source": [
    "for f in hexadecimal_features:\n",
    "    features[f] = features[f].apply(lambda x: conv_hex(x))\n",
    "\n",
    "features.head()"
   ]
  },
  {
   "cell_type": "markdown",
   "metadata": {},
   "source": [
    "## Split data into train and test set\n",
    "20% of the dataset is held off for testing our model. We make sure to only fit our models on the training data, so that there is no leakage of information from the test set into the model. We use a stratified split so that the class balance is maintained between the train and test sets."
   ]
  },
  {
   "cell_type": "code",
   "execution_count": 15,
   "metadata": {},
   "outputs": [],
   "source": [
    "from sklearn.model_selection import train_test_split\n",
    "X_train_pre, X_test_pre, y_train, y_test = train_test_split(features, labels, test_size=0.2, stratify=labels)"
   ]
  },
  {
   "cell_type": "markdown",
   "metadata": {},
   "source": [
    "## Imputation, normalization and one-hot encoding\n",
    "We use a ColumnTransformer to distinguish between numeric and categorical features for preprocessing. While it is used to transform both training and test data, it is only fit on the training set.\n",
    "\n",
    "We use the IterativeImputer and standard scaling for normalization of numeric features. For categorical features, we use one-hot encoding while ignoring missing values."
   ]
  },
  {
   "cell_type": "code",
   "execution_count": 16,
   "metadata": {},
   "outputs": [
    {
     "data": {
      "text/html": [
       "<div>\n",
       "<style scoped>\n",
       "    .dataframe tbody tr th:only-of-type {\n",
       "        vertical-align: middle;\n",
       "    }\n",
       "\n",
       "    .dataframe tbody tr th {\n",
       "        vertical-align: top;\n",
       "    }\n",
       "\n",
       "    .dataframe thead th {\n",
       "        text-align: right;\n",
       "    }\n",
       "</style>\n",
       "<table border=\"1\" class=\"dataframe\">\n",
       "  <thead>\n",
       "    <tr style=\"text-align: right;\">\n",
       "      <th></th>\n",
       "      <th>0</th>\n",
       "      <th>1</th>\n",
       "      <th>2</th>\n",
       "      <th>3</th>\n",
       "      <th>4</th>\n",
       "      <th>5</th>\n",
       "      <th>6</th>\n",
       "      <th>7</th>\n",
       "      <th>8</th>\n",
       "      <th>9</th>\n",
       "      <th>...</th>\n",
       "      <th>67</th>\n",
       "      <th>68</th>\n",
       "      <th>69</th>\n",
       "      <th>70</th>\n",
       "      <th>71</th>\n",
       "      <th>72</th>\n",
       "      <th>73</th>\n",
       "      <th>74</th>\n",
       "      <th>75</th>\n",
       "      <th>76</th>\n",
       "    </tr>\n",
       "  </thead>\n",
       "  <tbody>\n",
       "    <tr>\n",
       "      <th>count</th>\n",
       "      <td>4.000000e+04</td>\n",
       "      <td>4.000000e+04</td>\n",
       "      <td>4.000000e+04</td>\n",
       "      <td>4.000000e+04</td>\n",
       "      <td>4.000000e+04</td>\n",
       "      <td>4.000000e+04</td>\n",
       "      <td>4.000000e+04</td>\n",
       "      <td>4.000000e+04</td>\n",
       "      <td>4.000000e+04</td>\n",
       "      <td>4.000000e+04</td>\n",
       "      <td>...</td>\n",
       "      <td>40000.00000</td>\n",
       "      <td>40000.000000</td>\n",
       "      <td>40000.000000</td>\n",
       "      <td>40000.000000</td>\n",
       "      <td>40000.000000</td>\n",
       "      <td>40000.000000</td>\n",
       "      <td>40000.000000</td>\n",
       "      <td>40000.000000</td>\n",
       "      <td>40000.000000</td>\n",
       "      <td>40000.000000</td>\n",
       "    </tr>\n",
       "    <tr>\n",
       "      <th>mean</th>\n",
       "      <td>-3.483436e-15</td>\n",
       "      <td>-4.725109e-17</td>\n",
       "      <td>-5.879741e-17</td>\n",
       "      <td>-9.947598e-18</td>\n",
       "      <td>-5.693224e-17</td>\n",
       "      <td>1.957545e-16</td>\n",
       "      <td>-3.367973e-16</td>\n",
       "      <td>-3.961276e-17</td>\n",
       "      <td>-4.103384e-17</td>\n",
       "      <td>-1.278977e-17</td>\n",
       "      <td>...</td>\n",
       "      <td>0.06000</td>\n",
       "      <td>0.009250</td>\n",
       "      <td>0.029650</td>\n",
       "      <td>0.199850</td>\n",
       "      <td>0.045675</td>\n",
       "      <td>0.025150</td>\n",
       "      <td>0.175750</td>\n",
       "      <td>0.251225</td>\n",
       "      <td>0.272575</td>\n",
       "      <td>0.029775</td>\n",
       "    </tr>\n",
       "    <tr>\n",
       "      <th>std</th>\n",
       "      <td>1.000013e+00</td>\n",
       "      <td>1.000013e+00</td>\n",
       "      <td>1.000013e+00</td>\n",
       "      <td>1.000013e+00</td>\n",
       "      <td>1.000013e+00</td>\n",
       "      <td>1.000013e+00</td>\n",
       "      <td>1.000013e+00</td>\n",
       "      <td>1.000013e+00</td>\n",
       "      <td>1.000013e+00</td>\n",
       "      <td>1.000013e+00</td>\n",
       "      <td>...</td>\n",
       "      <td>0.23749</td>\n",
       "      <td>0.095732</td>\n",
       "      <td>0.169622</td>\n",
       "      <td>0.399892</td>\n",
       "      <td>0.208782</td>\n",
       "      <td>0.156583</td>\n",
       "      <td>0.380612</td>\n",
       "      <td>0.433723</td>\n",
       "      <td>0.445290</td>\n",
       "      <td>0.169968</td>\n",
       "    </tr>\n",
       "    <tr>\n",
       "      <th>min</th>\n",
       "      <td>-3.092265e+00</td>\n",
       "      <td>-1.875380e+00</td>\n",
       "      <td>-1.724495e+00</td>\n",
       "      <td>-1.727995e+00</td>\n",
       "      <td>-1.740075e+00</td>\n",
       "      <td>-1.813053e+00</td>\n",
       "      <td>-1.679248e+00</td>\n",
       "      <td>-3.249483e-01</td>\n",
       "      <td>-1.092867e+00</td>\n",
       "      <td>-6.289729e-01</td>\n",
       "      <td>...</td>\n",
       "      <td>0.00000</td>\n",
       "      <td>0.000000</td>\n",
       "      <td>0.000000</td>\n",
       "      <td>0.000000</td>\n",
       "      <td>0.000000</td>\n",
       "      <td>0.000000</td>\n",
       "      <td>0.000000</td>\n",
       "      <td>0.000000</td>\n",
       "      <td>0.000000</td>\n",
       "      <td>0.000000</td>\n",
       "    </tr>\n",
       "    <tr>\n",
       "      <th>25%</th>\n",
       "      <td>-7.600567e-01</td>\n",
       "      <td>-8.635093e-01</td>\n",
       "      <td>-8.289182e-01</td>\n",
       "      <td>-8.734546e-01</td>\n",
       "      <td>-8.208150e-01</td>\n",
       "      <td>-7.922488e-01</td>\n",
       "      <td>-7.878584e-01</td>\n",
       "      <td>-3.249483e-01</td>\n",
       "      <td>-1.092867e+00</td>\n",
       "      <td>-6.289729e-01</td>\n",
       "      <td>...</td>\n",
       "      <td>0.00000</td>\n",
       "      <td>0.000000</td>\n",
       "      <td>0.000000</td>\n",
       "      <td>0.000000</td>\n",
       "      <td>0.000000</td>\n",
       "      <td>0.000000</td>\n",
       "      <td>0.000000</td>\n",
       "      <td>0.000000</td>\n",
       "      <td>0.000000</td>\n",
       "      <td>0.000000</td>\n",
       "    </tr>\n",
       "    <tr>\n",
       "      <th>50%</th>\n",
       "      <td>-2.071618e-03</td>\n",
       "      <td>5.637339e-02</td>\n",
       "      <td>-1.110456e-03</td>\n",
       "      <td>5.640337e-05</td>\n",
       "      <td>-2.521219e-03</td>\n",
       "      <td>-3.299107e-02</td>\n",
       "      <td>-1.369871e-03</td>\n",
       "      <td>-3.249483e-01</td>\n",
       "      <td>9.433235e-01</td>\n",
       "      <td>-6.289729e-01</td>\n",
       "      <td>...</td>\n",
       "      <td>0.00000</td>\n",
       "      <td>0.000000</td>\n",
       "      <td>0.000000</td>\n",
       "      <td>0.000000</td>\n",
       "      <td>0.000000</td>\n",
       "      <td>0.000000</td>\n",
       "      <td>0.000000</td>\n",
       "      <td>0.000000</td>\n",
       "      <td>0.000000</td>\n",
       "      <td>0.000000</td>\n",
       "    </tr>\n",
       "    <tr>\n",
       "      <th>75%</th>\n",
       "      <td>7.348124e-01</td>\n",
       "      <td>9.149306e-01</td>\n",
       "      <td>8.480808e-01</td>\n",
       "      <td>8.303076e-01</td>\n",
       "      <td>8.162007e-01</td>\n",
       "      <td>8.529513e-01</td>\n",
       "      <td>6.950396e-01</td>\n",
       "      <td>-3.249483e-01</td>\n",
       "      <td>9.433235e-01</td>\n",
       "      <td>1.637383e+00</td>\n",
       "      <td>...</td>\n",
       "      <td>0.00000</td>\n",
       "      <td>0.000000</td>\n",
       "      <td>0.000000</td>\n",
       "      <td>0.000000</td>\n",
       "      <td>0.000000</td>\n",
       "      <td>0.000000</td>\n",
       "      <td>0.000000</td>\n",
       "      <td>1.000000</td>\n",
       "      <td>1.000000</td>\n",
       "      <td>0.000000</td>\n",
       "    </tr>\n",
       "    <tr>\n",
       "      <th>max</th>\n",
       "      <td>3.261427e+00</td>\n",
       "      <td>1.282884e+00</td>\n",
       "      <td>1.793192e+00</td>\n",
       "      <td>1.768454e+00</td>\n",
       "      <td>1.809491e+00</td>\n",
       "      <td>1.793222e+00</td>\n",
       "      <td>2.054161e+00</td>\n",
       "      <td>3.170662e+00</td>\n",
       "      <td>9.433235e-01</td>\n",
       "      <td>1.637383e+00</td>\n",
       "      <td>...</td>\n",
       "      <td>1.00000</td>\n",
       "      <td>1.000000</td>\n",
       "      <td>1.000000</td>\n",
       "      <td>1.000000</td>\n",
       "      <td>1.000000</td>\n",
       "      <td>1.000000</td>\n",
       "      <td>1.000000</td>\n",
       "      <td>1.000000</td>\n",
       "      <td>1.000000</td>\n",
       "      <td>1.000000</td>\n",
       "    </tr>\n",
       "  </tbody>\n",
       "</table>\n",
       "<p>8 rows × 77 columns</p>\n",
       "</div>"
      ],
      "text/plain": [
       "                 0             1             2             3             4   \\\n",
       "count  4.000000e+04  4.000000e+04  4.000000e+04  4.000000e+04  4.000000e+04   \n",
       "mean  -3.483436e-15 -4.725109e-17 -5.879741e-17 -9.947598e-18 -5.693224e-17   \n",
       "std    1.000013e+00  1.000013e+00  1.000013e+00  1.000013e+00  1.000013e+00   \n",
       "min   -3.092265e+00 -1.875380e+00 -1.724495e+00 -1.727995e+00 -1.740075e+00   \n",
       "25%   -7.600567e-01 -8.635093e-01 -8.289182e-01 -8.734546e-01 -8.208150e-01   \n",
       "50%   -2.071618e-03  5.637339e-02 -1.110456e-03  5.640337e-05 -2.521219e-03   \n",
       "75%    7.348124e-01  9.149306e-01  8.480808e-01  8.303076e-01  8.162007e-01   \n",
       "max    3.261427e+00  1.282884e+00  1.793192e+00  1.768454e+00  1.809491e+00   \n",
       "\n",
       "                 5             6             7             8             9   \\\n",
       "count  4.000000e+04  4.000000e+04  4.000000e+04  4.000000e+04  4.000000e+04   \n",
       "mean   1.957545e-16 -3.367973e-16 -3.961276e-17 -4.103384e-17 -1.278977e-17   \n",
       "std    1.000013e+00  1.000013e+00  1.000013e+00  1.000013e+00  1.000013e+00   \n",
       "min   -1.813053e+00 -1.679248e+00 -3.249483e-01 -1.092867e+00 -6.289729e-01   \n",
       "25%   -7.922488e-01 -7.878584e-01 -3.249483e-01 -1.092867e+00 -6.289729e-01   \n",
       "50%   -3.299107e-02 -1.369871e-03 -3.249483e-01  9.433235e-01 -6.289729e-01   \n",
       "75%    8.529513e-01  6.950396e-01 -3.249483e-01  9.433235e-01  1.637383e+00   \n",
       "max    1.793222e+00  2.054161e+00  3.170662e+00  9.433235e-01  1.637383e+00   \n",
       "\n",
       "       ...           67            68            69            70  \\\n",
       "count  ...  40000.00000  40000.000000  40000.000000  40000.000000   \n",
       "mean   ...      0.06000      0.009250      0.029650      0.199850   \n",
       "std    ...      0.23749      0.095732      0.169622      0.399892   \n",
       "min    ...      0.00000      0.000000      0.000000      0.000000   \n",
       "25%    ...      0.00000      0.000000      0.000000      0.000000   \n",
       "50%    ...      0.00000      0.000000      0.000000      0.000000   \n",
       "75%    ...      0.00000      0.000000      0.000000      0.000000   \n",
       "max    ...      1.00000      1.000000      1.000000      1.000000   \n",
       "\n",
       "                 71            72            73            74            75  \\\n",
       "count  40000.000000  40000.000000  40000.000000  40000.000000  40000.000000   \n",
       "mean       0.045675      0.025150      0.175750      0.251225      0.272575   \n",
       "std        0.208782      0.156583      0.380612      0.433723      0.445290   \n",
       "min        0.000000      0.000000      0.000000      0.000000      0.000000   \n",
       "25%        0.000000      0.000000      0.000000      0.000000      0.000000   \n",
       "50%        0.000000      0.000000      0.000000      0.000000      0.000000   \n",
       "75%        0.000000      0.000000      0.000000      1.000000      1.000000   \n",
       "max        1.000000      1.000000      1.000000      1.000000      1.000000   \n",
       "\n",
       "                 76  \n",
       "count  40000.000000  \n",
       "mean       0.029775  \n",
       "std        0.169968  \n",
       "min        0.000000  \n",
       "25%        0.000000  \n",
       "50%        0.000000  \n",
       "75%        0.000000  \n",
       "max        1.000000  \n",
       "\n",
       "[8 rows x 77 columns]"
      ]
     },
     "execution_count": 16,
     "metadata": {},
     "output_type": "execute_result"
    }
   ],
   "source": [
    "from imblearn.pipeline import make_pipeline\n",
    "from sklearn.compose import make_column_transformer\n",
    "from sklearn.experimental import enable_iterative_imputer\n",
    "from sklearn.impute import SimpleImputer, IterativeImputer\n",
    "from sklearn.preprocessing import StandardScaler, OneHotEncoder\n",
    "\n",
    "numeric_transformer = make_pipeline(\n",
    "    IterativeImputer(random_state=0),\n",
    "    StandardScaler()\n",
    ")\n",
    "\n",
    "categorical_transformer = make_pipeline(\n",
    "    SimpleImputer(strategy='constant', fill_value='missing'),\n",
    "    OneHotEncoder(handle_unknown='ignore')\n",
    ")\n",
    "    \n",
    "preprocessor = make_column_transformer(\n",
    "    (numeric_transformer, numeric_features + hexadecimal_features + boolean_features + ordinal_features),\n",
    "    (categorical_transformer, categorical_features),\n",
    ")\n",
    "\n",
    "X_train = pd.DataFrame(preprocessor.fit_transform(X_train_pre, y_train))\n",
    "X_test  = pd.DataFrame(preprocessor.transform(X_test_pre))\n",
    "\n",
    "X_train.describe()"
   ]
  },
  {
   "cell_type": "markdown",
   "metadata": {},
   "source": [
    "# Model selection\n",
    "## Evaluation\n",
    "Because there is no perfect metric to evaluate the performance of a model, and we don't know which aspect of performance is the most valuable in this case, we decided to look at both the ROC AUC score and the F1 score while we were experimenting with different models. The ROC AUC score summarizes the TPR (true positive rate) and FPR (false positive rate) at different discrimination thresholds, and is independent of class distribution (which in our case is unbalanced), so it will be the primary metric by which we evaluate performance. Furthermore, the F1 score represents an average of precision and recall.\n",
    "\n",
    "Seeing as we know nothing about the problem domain, but we have a minority of 1s in the target, we make the assumption that having a high recall of the 1 class is more important than a high recall of the 0 class."
   ]
  },
  {
   "cell_type": "code",
   "execution_count": 70,
   "metadata": {},
   "outputs": [],
   "source": [
    "from sklearn.metrics import roc_auc_score, f1_score, classification_report\n",
    "\n",
    "def evaluate_model(model, X, y):\n",
    "    \n",
    "    y_pred = model.predict(X)\n",
    "    y_pred_prob = model.predict_proba(X)[:,1]\n",
    "    \n",
    "    print(f\"AUC: {roc_auc_score(y, y_pred_prob)}\")\n",
    "    print(f\"F1: {f1_score(y, y_pred)}\")\n",
    "\n",
    "    print(classification_report(y, y_pred))"
   ]
  },
  {
   "cell_type": "markdown",
   "metadata": {},
   "source": [
    "## Oversampling\n",
    "To deal with our imbalanced classes, we initially tried using the SMOTE oversampling technique. However, we obtained better results using the simpler RandomOverSampler. Since oversampling a validation set would result in overly optimistic results during cross-validation, which would be detrimental to optimal model selection, we use an Imbalanced-Learn pipeline as a drop-in replacement for the scikit-learn pipeline. This implementation makes sure that oversampling is only applied to the training folds, not the validation folds, when performing cross-validation.\n",
    "\n",
    "## Baseline attempt using logistic regression\n",
    "We achieve an AUC of 0.718 by using logistic regression with default parameters."
   ]
  },
  {
   "cell_type": "code",
   "execution_count": 72,
   "metadata": {},
   "outputs": [
    {
     "name": "stdout",
     "output_type": "stream",
     "text": [
      "AUC: 0.7184258590281174\n",
      "F1: 0.4113846691112275\n",
      "              precision    recall  f1-score   support\n",
      "\n",
      "           0       0.89      0.67      0.76      8165\n",
      "           1       0.30      0.64      0.41      1835\n",
      "\n",
      "    accuracy                           0.66     10000\n",
      "   macro avg       0.60      0.65      0.59     10000\n",
      "weighted avg       0.78      0.66      0.70     10000\n",
      "\n"
     ]
    }
   ],
   "source": [
    "from imblearn.over_sampling import RandomOverSampler\n",
    "from sklearn.linear_model import LogisticRegression\n",
    "\n",
    "lr = make_pipeline(\n",
    "    RandomOverSampler(random_state=0),\n",
    "    LogisticRegression(random_state=0, n_jobs=6, max_iter=1000),\n",
    ")\n",
    "\n",
    "lr.fit(X_train, y_train)\n",
    "\n",
    "evaluate_model(lr, X_test, y_test)"
   ]
  },
  {
   "cell_type": "markdown",
   "metadata": {},
   "source": [
    "## Logistic regression with balanced class weights, no oversampling\n",
    "Instead of using oversampling, one can try to compensate for class imbalance by weighting the classes by their inverse proportions in the training set. This approach gave marginally better results in this case, and worse results in others."
   ]
  },
  {
   "cell_type": "code",
   "execution_count": 78,
   "metadata": {},
   "outputs": [
    {
     "name": "stdout",
     "output_type": "stream",
     "text": [
      "AUC: 0.7194375541246532\n",
      "F1: 0.4113648248213352\n",
      "              precision    recall  f1-score   support\n",
      "\n",
      "           0       0.89      0.67      0.76      8165\n",
      "           1       0.30      0.64      0.41      1835\n",
      "\n",
      "    accuracy                           0.66     10000\n",
      "   macro avg       0.60      0.65      0.59     10000\n",
      "weighted avg       0.78      0.66      0.70     10000\n",
      "\n"
     ]
    }
   ],
   "source": [
    "lr_balanced = LogisticRegression(random_state=0, n_jobs=6, max_iter=1000, class_weight='balanced')\n",
    "\n",
    "lr_balanced.fit(X_train, y_train)\n",
    "\n",
    "evaluate_model(lr_balanced, X_test, y_test)"
   ]
  },
  {
   "cell_type": "markdown",
   "metadata": {},
   "source": [
    "## Grid search using logistic regression\n",
    "Let's try to search for a better model using some different C values. Our grid search probably benefits from using a stratified k-fold split to maintain class balance between folds."
   ]
  },
  {
   "cell_type": "code",
   "execution_count": 74,
   "metadata": {},
   "outputs": [
    {
     "name": "stdout",
     "output_type": "stream",
     "text": [
      "{'logisticregression__C': 0.03359818286283781}\n",
      "0.7280189698578045\n",
      "AUC: 0.7185508025048766\n",
      "F1: 0.41201117318435754\n",
      "              precision    recall  f1-score   support\n",
      "\n",
      "           0       0.89      0.67      0.76      8165\n",
      "           1       0.30      0.64      0.41      1835\n",
      "\n",
      "    accuracy                           0.66     10000\n",
      "   macro avg       0.60      0.66      0.59     10000\n",
      "weighted avg       0.78      0.66      0.70     10000\n",
      "\n"
     ]
    }
   ],
   "source": [
    "from sklearn.model_selection import GridSearchCV, StratifiedKFold\n",
    "\n",
    "kf = StratifiedKFold(n_splits=5)\n",
    "\n",
    "params = {\n",
    "    'logisticregression__C': np.logspace(-4, 4, 20)\n",
    "}\n",
    "\n",
    "grid_lr = GridSearchCV(\n",
    "    lr,\n",
    "    param_grid=params,\n",
    "    cv=kf,\n",
    "    scoring='roc_auc',\n",
    "    n_jobs=6\n",
    ")\n",
    "\n",
    "grid_lr.fit(X_train, y_train)\n",
    "\n",
    "print(grid_lr.best_params_)\n",
    "\n",
    "evaluate_model(grid_lr, X_test, y_test)"
   ]
  },
  {
   "cell_type": "markdown",
   "metadata": {},
   "source": [
    "The search yields slightly better results (AUC = 0.728) than our baseline with C = 0.034."
   ]
  },
  {
   "cell_type": "markdown",
   "metadata": {},
   "source": [
    "## Principal component analysis\n",
    "We attempted to reduce the dimensionality of the feature space using PCA, although this only resulted in worse performance. This makes sense considering our features have a low degree of correlation already. Lower values of n_components gave worse results."
   ]
  },
  {
   "cell_type": "code",
   "execution_count": 80,
   "metadata": {},
   "outputs": [
    {
     "name": "stdout",
     "output_type": "stream",
     "text": [
      "AUC: 0.7173163849820878\n",
      "F1: 0.4104803493449782\n",
      "              precision    recall  f1-score   support\n",
      "\n",
      "           0       0.89      0.67      0.76      8165\n",
      "           1       0.30      0.64      0.41      1835\n",
      "\n",
      "    accuracy                           0.66     10000\n",
      "   macro avg       0.60      0.65      0.59     10000\n",
      "weighted avg       0.78      0.66      0.70     10000\n",
      "\n"
     ]
    }
   ],
   "source": [
    "from sklearn.decomposition import PCA\n",
    "\n",
    "pca = make_pipeline(\n",
    "    RandomOverSampler(random_state=0),\n",
    "    PCA(n_components=60),\n",
    "    LogisticRegression(random_state=0, n_jobs=6, max_iter=1000),\n",
    "\n",
    ")\n",
    "\n",
    "pca.fit(X_train, y_train)\n",
    "\n",
    "evaluate_model(pca, X_test, y_test)"
   ]
  },
  {
   "cell_type": "markdown",
   "metadata": {},
   "source": [
    "## AdaBoost\n",
    "After trying out decision trees and random forests, which performed very poorly with especially low recall (around 7%), we were finally able to improve our results using the AdaBoost gradient boosting technique with decision trees as the base estimators."
   ]
  },
  {
   "cell_type": "code",
   "execution_count": 76,
   "metadata": {},
   "outputs": [
    {
     "name": "stdout",
     "output_type": "stream",
     "text": [
      "AUC: 0.725944059094527\n",
      "F1: 0.41963970328505834\n",
      "              precision    recall  f1-score   support\n",
      "\n",
      "           0       0.90      0.68      0.77      8165\n",
      "           1       0.31      0.65      0.42      1835\n",
      "\n",
      "    accuracy                           0.67     10000\n",
      "   macro avg       0.60      0.66      0.60     10000\n",
      "weighted avg       0.79      0.67      0.71     10000\n",
      "\n"
     ]
    }
   ],
   "source": [
    "from sklearn.ensemble import AdaBoostClassifier\n",
    "\n",
    "ada = make_pipeline(\n",
    "    RandomOverSampler(random_state=0),\n",
    "    AdaBoostClassifier(random_state=0, n_estimators=50, learning_rate=1),\n",
    ")\n",
    "\n",
    "ada.fit(X_train, y_train)\n",
    "\n",
    "evaluate_model(ada, X_test, y_test)"
   ]
  },
  {
   "cell_type": "markdown",
   "metadata": {},
   "source": [
    "Searching for a compromise between the number of estimators used and the learning rate gives us the best results with a learning rate of 1 and 1000 estimators. This is surprising as AdaBoost typically performs better with smaller learning rates, especially when using many base estimators."
   ]
  },
  {
   "cell_type": "code",
   "execution_count": 82,
   "metadata": {},
   "outputs": [
    {
     "name": "stdout",
     "output_type": "stream",
     "text": [
      "{'adaboostclassifier__learning_rate': 1.0, 'adaboostclassifier__n_estimators': 1000}\n",
      "AUC: 0.7391304347826088\n",
      "F1: 0.4346393262541194\n",
      "              precision    recall  f1-score   support\n",
      "\n",
      "           0       0.90      0.70      0.79      8165\n",
      "           1       0.33      0.65      0.43      1835\n",
      "\n",
      "    accuracy                           0.69     10000\n",
      "   macro avg       0.61      0.67      0.61     10000\n",
      "weighted avg       0.79      0.69      0.72     10000\n",
      "\n"
     ]
    }
   ],
   "source": [
    "ada = make_pipeline(\n",
    "    RandomOverSampler(random_state=0),\n",
    "    AdaBoostClassifier(random_state=0),\n",
    ")\n",
    "\n",
    "params = {\n",
    "    'adaboostclassifier__n_estimators': [100, 500, 1000],\n",
    "    'adaboostclassifier__learning_rate': [0.0001, 0.001, 0.01, 0.1, 1.0]\n",
    "}\n",
    "\n",
    "grid_ada = GridSearchCV(\n",
    "    ada,\n",
    "    param_grid=params,\n",
    "    cv=kf,\n",
    "    scoring='roc_auc',\n",
    "    n_jobs=6\n",
    ")\n",
    "\n",
    "grid_ada.fit(X_train, y_train)\n",
    "\n",
    "print(grid_ada.best_params_)\n",
    "\n",
    "evaluate_model(grid_ada, X_test, y_test)"
   ]
  },
  {
   "cell_type": "markdown",
   "metadata": {},
   "source": [
    "Let's try to search further using a higher number of base estimators, while keeping the learning rate at 1. We get the same result."
   ]
  },
  {
   "cell_type": "code",
   "execution_count": 81,
   "metadata": {},
   "outputs": [
    {
     "name": "stdout",
     "output_type": "stream",
     "text": [
      "{'adaboostclassifier__learning_rate': 1.0, 'adaboostclassifier__n_estimators': 1000}\n",
      "AUC: 0.7391304347826088\n",
      "F1: 0.4346393262541194\n",
      "              precision    recall  f1-score   support\n",
      "\n",
      "           0       0.90      0.70      0.79      8165\n",
      "           1       0.33      0.65      0.43      1835\n",
      "\n",
      "    accuracy                           0.69     10000\n",
      "   macro avg       0.61      0.67      0.61     10000\n",
      "weighted avg       0.79      0.69      0.72     10000\n",
      "\n"
     ]
    }
   ],
   "source": [
    "params = {\n",
    "    'adaboostclassifier__n_estimators': [1000, 1500, 2000],\n",
    "    'adaboostclassifier__learning_rate': [1.0]\n",
    "}\n",
    "\n",
    "grid_ada = GridSearchCV(\n",
    "    ada,\n",
    "    param_grid=params,\n",
    "    cv=kf,\n",
    "    scoring='roc_auc',\n",
    "    n_jobs=6\n",
    ")\n",
    "\n",
    "grid_ada.fit(X_train, y_train)\n",
    "\n",
    "print(grid_ada.best_params_)\n",
    "\n",
    "evaluate_model(grid_ada, X_test, y_test)"
   ]
  },
  {
   "cell_type": "markdown",
   "metadata": {},
   "source": [
    "# Model analysis"
   ]
  },
  {
   "cell_type": "code",
   "execution_count": 42,
   "metadata": {},
   "outputs": [
    {
     "data": {
      "text/plain": [
       "Pipeline(steps=[('randomoversampler', RandomOverSampler(random_state=0)),\n",
       "                ('adaboostclassifier',\n",
       "                 AdaBoostClassifier(n_estimators=1000, random_state=0))])"
      ]
     },
     "execution_count": 42,
     "metadata": {},
     "output_type": "execute_result"
    }
   ],
   "source": [
    "model = grid_ada.best_estimator_\n",
    "model"
   ]
  },
  {
   "cell_type": "markdown",
   "metadata": {},
   "source": [
    "## ROC curve"
   ]
  },
  {
   "cell_type": "code",
   "execution_count": 77,
   "metadata": {},
   "outputs": [
    {
     "data": {
      "image/png": "[encoded data removed]",
      "text/plain": [
       "<Figure size 432x288 with 1 Axes>"
      ]
     },
     "metadata": {
      "needs_background": "light"
     },
     "output_type": "display_data"
    }
   ],
   "source": [
    "from sklearn.metrics import roc_auc_score, roc_curve\n",
    "\n",
    "def plot_ROC(y_true, y_pred, auc):\n",
    "    fpr, tpr, thresholds = roc_curve(y_true, y_pred)\n",
    "    plt.plot(fpr, tpr)\n",
    "    plt.axis(\"Square\")\n",
    "    plt.xlabel('False Positive Rate')\n",
    "    plt.ylabel('True Positive Rate')\n",
    "    plt.title(f'ROC curve: score={auc}')\n",
    "    plt.show()\n",
    "\n",
    "y_pred = model.predict_proba(X_test)[:,1]\n",
    "auc = roc_auc_score(y_test, y_pred)\n",
    "plot_ROC(y_test, y_pred, auc)"
   ]
  },
  {
   "cell_type": "markdown",
   "metadata": {},
   "source": [
    "## Feature importances\n",
    "Let's plot all feature importances."
   ]
  },
  {
   "cell_type": "code",
   "execution_count": 113,
   "metadata": {
    "scrolled": false
   },
   "outputs": [
    {
     "data": {
      "image/png": "[encoded data removed]",
      "text/plain": [
       "<Figure size 1440x1440 with 1 Axes>"
      ]
     },
     "metadata": {
      "needs_background": "light"
     },
     "output_type": "display_data"
    }
   ],
   "source": [
    "importances = model.named_steps['adaboostclassifier'].feature_importances_\n",
    "\n",
    "feat_imp = pd.DataFrame({'importance':importances})    \n",
    "feat_imp['feature'] = X_train.columns\n",
    "\n",
    "feat_imp = feat_imp.set_index('feature', drop=True)\n",
    "feat_imp.plot.bar(title=\"Feature Importances\", figsize=(20,20))\n",
    "plt.show()\n"
   ]
  },
  {
   "cell_type": "markdown",
   "metadata": {},
   "source": [
    "We see that there are 14 features which are the most important by a certain threshold."
   ]
  },
  {
   "cell_type": "code",
   "execution_count": 111,
   "metadata": {},
   "outputs": [
    {
     "data": {
      "text/html": [
       "<div>\n",
       "<style scoped>\n",
       "    .dataframe tbody tr th:only-of-type {\n",
       "        vertical-align: middle;\n",
       "    }\n",
       "\n",
       "    .dataframe tbody tr th {\n",
       "        vertical-align: top;\n",
       "    }\n",
       "\n",
       "    .dataframe thead th {\n",
       "        text-align: right;\n",
       "    }\n",
       "</style>\n",
       "<table border=\"1\" class=\"dataframe\">\n",
       "  <thead>\n",
       "    <tr style=\"text-align: right;\">\n",
       "      <th></th>\n",
       "      <th>importance</th>\n",
       "    </tr>\n",
       "    <tr>\n",
       "      <th>feature</th>\n",
       "      <th></th>\n",
       "    </tr>\n",
       "  </thead>\n",
       "  <tbody>\n",
       "    <tr>\n",
       "      <th>6</th>\n",
       "      <td>0.246</td>\n",
       "    </tr>\n",
       "    <tr>\n",
       "      <th>5</th>\n",
       "      <td>0.200</td>\n",
       "    </tr>\n",
       "    <tr>\n",
       "      <th>2</th>\n",
       "      <td>0.127</td>\n",
       "    </tr>\n",
       "    <tr>\n",
       "      <th>0</th>\n",
       "      <td>0.114</td>\n",
       "    </tr>\n",
       "    <tr>\n",
       "      <th>3</th>\n",
       "      <td>0.096</td>\n",
       "    </tr>\n",
       "    <tr>\n",
       "      <th>4</th>\n",
       "      <td>0.043</td>\n",
       "    </tr>\n",
       "    <tr>\n",
       "      <th>1</th>\n",
       "      <td>0.023</td>\n",
       "    </tr>\n",
       "    <tr>\n",
       "      <th>15</th>\n",
       "      <td>0.016</td>\n",
       "    </tr>\n",
       "    <tr>\n",
       "      <th>19</th>\n",
       "      <td>0.016</td>\n",
       "    </tr>\n",
       "    <tr>\n",
       "      <th>12</th>\n",
       "      <td>0.015</td>\n",
       "    </tr>\n",
       "    <tr>\n",
       "      <th>16</th>\n",
       "      <td>0.012</td>\n",
       "    </tr>\n",
       "    <tr>\n",
       "      <th>14</th>\n",
       "      <td>0.008</td>\n",
       "    </tr>\n",
       "    <tr>\n",
       "      <th>17</th>\n",
       "      <td>0.006</td>\n",
       "    </tr>\n",
       "    <tr>\n",
       "      <th>18</th>\n",
       "      <td>0.006</td>\n",
       "    </tr>\n",
       "  </tbody>\n",
       "</table>\n",
       "</div>"
      ],
      "text/plain": [
       "         importance\n",
       "feature            \n",
       "6             0.246\n",
       "5             0.200\n",
       "2             0.127\n",
       "0             0.114\n",
       "3             0.096\n",
       "4             0.043\n",
       "1             0.023\n",
       "15            0.016\n",
       "19            0.016\n",
       "12            0.015\n",
       "16            0.012\n",
       "14            0.008\n",
       "17            0.006\n",
       "18            0.006"
      ]
     },
     "execution_count": 111,
     "metadata": {},
     "output_type": "execute_result"
    }
   ],
   "source": [
    "feat_imp.sort_values(by='importance', ascending=False, inplace=True)\n",
    "feat_imp = feat_imp.iloc[:14]\n",
    "feat_imp"
   ]
  },
  {
   "cell_type": "code",
   "execution_count": 112,
   "metadata": {},
   "outputs": [
    {
     "data": {
      "image/png": "[encoded data removed]",
      "text/plain": [
       "<Figure size 1440x1440 with 1 Axes>"
      ]
     },
     "metadata": {
      "needs_background": "light"
     },
     "output_type": "display_data"
    }
   ],
   "source": [
    "feat_imp.sort_values(by='feature', inplace=True)\n",
    "feat_imp.plot.bar(title=\"Feature Importances\", figsize=(20,20))\n",
    "plt.show()"
   ]
  },
  {
   "cell_type": "code",
   "execution_count": null,
   "metadata": {},
   "outputs": [],
   "source": []
  }
 ],
 "metadata": {
  "kernelspec": {
   "display_name": "Python [conda env:MML] *",
   "language": "python",
   "name": "conda-env-MML-py"
  },
  "language_info": {
   "codemirror_mode": {
    "name": "ipython",
    "version": 3
   },
   "file_extension": ".py",
   "mimetype": "text/x-python",
   "name": "python",
   "nbconvert_exporter": "python",
   "pygments_lexer": "ipython3",
   "version": "3.8.5"
  }
 },
 "nbformat": 4,
 "nbformat_minor": 4
}
